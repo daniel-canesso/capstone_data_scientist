{
 "cells": [
  {
   "cell_type": "markdown",
   "metadata": {},
   "source": [
    "<h2><center>Introduction</center></h2>"
   ]
  },
  {
   "cell_type": "markdown",
   "metadata": {},
   "source": [
    "Predicting the closing price of various assets is one of the first things every data scientist tries to do at least once in his career. The world of trading is fascinating, and poses immense challenges for us. The area of trading by algorithms has been gaining strength for some years, and this is the motivation of this work. Create a model that is able to predict, with reasonable accuracy, the closing price of the Bitcoin asset, in daily time, and using only the price data.\n",
    "\n",
    "The model evaluation metric chosen by the percentage error of the entire historical series, and which must be below 5%."
   ]
  },
  {
   "cell_type": "markdown",
   "metadata": {},
   "source": [
    "<h1><center>Prepare Data</center></h1>"
   ]
  },
  {
   "cell_type": "markdown",
   "metadata": {},
   "source": [
    "The objective of this project is to create a model that is able to predict the price of Bitcoin, at the close of any given day, with an acceptable margin of error (+/- 5%).\n",
    "The data source used was a dataset available on Kaggle, which contains the daily quotation since 2014 for the asset in question.\n",
    "\n",
    "In this notebook, I will present the treatment I performed to clear NaN's data, and load the entire dataframe into a Sqlite database for the next steps.\n",
    "\n",
    "Download Data: 11/07/2021\n",
    "\n",
    "Download link: https://www.kaggle.com/varpit94/bitcoin-data-updated-till-26jun2021"
   ]
  },
  {
   "cell_type": "markdown",
   "metadata": {},
   "source": [
    "<h3>Packages Import<h3>"
   ]
  },
  {
   "cell_type": "code",
   "execution_count": 1,
   "metadata": {},
   "outputs": [],
   "source": [
    "import pandas as pd\n",
    "from sqlalchemy import create_engine"
   ]
  },
  {
   "cell_type": "markdown",
   "metadata": {},
   "source": [
    "<h3>Opening file and create Dataframe</h3>"
   ]
  },
  {
   "cell_type": "code",
   "execution_count": 2,
   "metadata": {},
   "outputs": [
    {
     "data": {
      "text/html": [
       "<div>\n",
       "<style scoped>\n",
       "    .dataframe tbody tr th:only-of-type {\n",
       "        vertical-align: middle;\n",
       "    }\n",
       "\n",
       "    .dataframe tbody tr th {\n",
       "        vertical-align: top;\n",
       "    }\n",
       "\n",
       "    .dataframe thead th {\n",
       "        text-align: right;\n",
       "    }\n",
       "</style>\n",
       "<table border=\"1\" class=\"dataframe\">\n",
       "  <thead>\n",
       "    <tr style=\"text-align: right;\">\n",
       "      <th></th>\n",
       "      <th>Date</th>\n",
       "      <th>Open</th>\n",
       "      <th>High</th>\n",
       "      <th>Low</th>\n",
       "      <th>Close</th>\n",
       "      <th>Adj Close</th>\n",
       "      <th>Volume</th>\n",
       "    </tr>\n",
       "  </thead>\n",
       "  <tbody>\n",
       "    <tr>\n",
       "      <th>0</th>\n",
       "      <td>2014-09-17</td>\n",
       "      <td>465.864014</td>\n",
       "      <td>468.174011</td>\n",
       "      <td>452.421997</td>\n",
       "      <td>457.334015</td>\n",
       "      <td>457.334015</td>\n",
       "      <td>2.105680e+07</td>\n",
       "    </tr>\n",
       "    <tr>\n",
       "      <th>1</th>\n",
       "      <td>2014-09-18</td>\n",
       "      <td>456.859985</td>\n",
       "      <td>456.859985</td>\n",
       "      <td>413.104004</td>\n",
       "      <td>424.440002</td>\n",
       "      <td>424.440002</td>\n",
       "      <td>3.448320e+07</td>\n",
       "    </tr>\n",
       "    <tr>\n",
       "      <th>2</th>\n",
       "      <td>2014-09-19</td>\n",
       "      <td>424.102997</td>\n",
       "      <td>427.834991</td>\n",
       "      <td>384.532013</td>\n",
       "      <td>394.795990</td>\n",
       "      <td>394.795990</td>\n",
       "      <td>3.791970e+07</td>\n",
       "    </tr>\n",
       "    <tr>\n",
       "      <th>3</th>\n",
       "      <td>2014-09-20</td>\n",
       "      <td>394.673004</td>\n",
       "      <td>423.295990</td>\n",
       "      <td>389.882996</td>\n",
       "      <td>408.903992</td>\n",
       "      <td>408.903992</td>\n",
       "      <td>3.686360e+07</td>\n",
       "    </tr>\n",
       "    <tr>\n",
       "      <th>4</th>\n",
       "      <td>2014-09-21</td>\n",
       "      <td>408.084991</td>\n",
       "      <td>412.425995</td>\n",
       "      <td>393.181000</td>\n",
       "      <td>398.821014</td>\n",
       "      <td>398.821014</td>\n",
       "      <td>2.658010e+07</td>\n",
       "    </tr>\n",
       "    <tr>\n",
       "      <th>...</th>\n",
       "      <td>...</td>\n",
       "      <td>...</td>\n",
       "      <td>...</td>\n",
       "      <td>...</td>\n",
       "      <td>...</td>\n",
       "      <td>...</td>\n",
       "      <td>...</td>\n",
       "    </tr>\n",
       "    <tr>\n",
       "      <th>2483</th>\n",
       "      <td>2021-07-05</td>\n",
       "      <td>35284.343750</td>\n",
       "      <td>35284.343750</td>\n",
       "      <td>33213.660156</td>\n",
       "      <td>33746.003906</td>\n",
       "      <td>33746.003906</td>\n",
       "      <td>2.672155e+10</td>\n",
       "    </tr>\n",
       "    <tr>\n",
       "      <th>2484</th>\n",
       "      <td>2021-07-06</td>\n",
       "      <td>33723.507813</td>\n",
       "      <td>35038.535156</td>\n",
       "      <td>33599.917969</td>\n",
       "      <td>34235.195313</td>\n",
       "      <td>34235.195313</td>\n",
       "      <td>2.650126e+10</td>\n",
       "    </tr>\n",
       "    <tr>\n",
       "      <th>2485</th>\n",
       "      <td>2021-07-07</td>\n",
       "      <td>34225.679688</td>\n",
       "      <td>34997.664063</td>\n",
       "      <td>33839.289063</td>\n",
       "      <td>33855.328125</td>\n",
       "      <td>33855.328125</td>\n",
       "      <td>2.479603e+10</td>\n",
       "    </tr>\n",
       "    <tr>\n",
       "      <th>2486</th>\n",
       "      <td>2021-07-08</td>\n",
       "      <td>33889.605469</td>\n",
       "      <td>33907.906250</td>\n",
       "      <td>32133.183594</td>\n",
       "      <td>32877.371094</td>\n",
       "      <td>32877.371094</td>\n",
       "      <td>2.991040e+10</td>\n",
       "    </tr>\n",
       "    <tr>\n",
       "      <th>2487</th>\n",
       "      <td>2021-07-09</td>\n",
       "      <td>32776.671875</td>\n",
       "      <td>33226.617188</td>\n",
       "      <td>32339.984375</td>\n",
       "      <td>33174.855469</td>\n",
       "      <td>33174.855469</td>\n",
       "      <td>2.554517e+10</td>\n",
       "    </tr>\n",
       "  </tbody>\n",
       "</table>\n",
       "<p>2488 rows × 7 columns</p>\n",
       "</div>"
      ],
      "text/plain": [
       "           Date          Open          High           Low         Close  \\\n",
       "0    2014-09-17    465.864014    468.174011    452.421997    457.334015   \n",
       "1    2014-09-18    456.859985    456.859985    413.104004    424.440002   \n",
       "2    2014-09-19    424.102997    427.834991    384.532013    394.795990   \n",
       "3    2014-09-20    394.673004    423.295990    389.882996    408.903992   \n",
       "4    2014-09-21    408.084991    412.425995    393.181000    398.821014   \n",
       "...         ...           ...           ...           ...           ...   \n",
       "2483 2021-07-05  35284.343750  35284.343750  33213.660156  33746.003906   \n",
       "2484 2021-07-06  33723.507813  35038.535156  33599.917969  34235.195313   \n",
       "2485 2021-07-07  34225.679688  34997.664063  33839.289063  33855.328125   \n",
       "2486 2021-07-08  33889.605469  33907.906250  32133.183594  32877.371094   \n",
       "2487 2021-07-09  32776.671875  33226.617188  32339.984375  33174.855469   \n",
       "\n",
       "         Adj Close        Volume  \n",
       "0       457.334015  2.105680e+07  \n",
       "1       424.440002  3.448320e+07  \n",
       "2       394.795990  3.791970e+07  \n",
       "3       408.903992  3.686360e+07  \n",
       "4       398.821014  2.658010e+07  \n",
       "...            ...           ...  \n",
       "2483  33746.003906  2.672155e+10  \n",
       "2484  34235.195313  2.650126e+10  \n",
       "2485  33855.328125  2.479603e+10  \n",
       "2486  32877.371094  2.991040e+10  \n",
       "2487  33174.855469  2.554517e+10  \n",
       "\n",
       "[2488 rows x 7 columns]"
      ]
     },
     "execution_count": 2,
     "metadata": {},
     "output_type": "execute_result"
    }
   ],
   "source": [
    "frame = pd.read_csv('./data/BTC-USD.csv', parse_dates=['Date'])\n",
    "frame"
   ]
  },
  {
   "cell_type": "markdown",
   "metadata": {},
   "source": [
    "<h3>Check rows and columns quantity</h3>"
   ]
  },
  {
   "cell_type": "code",
   "execution_count": 3,
   "metadata": {},
   "outputs": [
    {
     "name": "stdout",
     "output_type": "stream",
     "text": [
      "Dataframe number of rows:  2488\n",
      "Dataframe number of columns:  7\n"
     ]
    }
   ],
   "source": [
    "print('Dataframe number of rows: ', frame.shape[0])\n",
    "print('Dataframe number of columns: ', frame.shape[1])"
   ]
  },
  {
   "cell_type": "markdown",
   "metadata": {},
   "source": [
    "<h3>Check for duplicates rows</h3>\n",
    "\n",
    "To check if there were duplicate rows in the dataframe, we based on the dates. For this, we performed a count of the number of times the values present in the \"Date\" column appeared.\n",
    "\n",
    "We did not find repeated dates in our data."
   ]
  },
  {
   "cell_type": "code",
   "execution_count": 4,
   "metadata": {},
   "outputs": [
    {
     "data": {
      "text/plain": [
       "Series([], Name: Date, dtype: int64)"
      ]
     },
     "execution_count": 4,
     "metadata": {},
     "output_type": "execute_result"
    }
   ],
   "source": [
    "frame.Date.value_counts()[frame.Date.value_counts() > 1]"
   ]
  },
  {
   "cell_type": "markdown",
   "metadata": {},
   "source": [
    "<h3>Check for missing values</h3>\n",
    "\n",
    "We also checked for rows with missing values, regardless of whether the values were in just one column or the entire row.\n",
    "\n",
    "We found 4 rows with missing values.\n",
    "\n",
    "In order not to erase the lines and harm the time series, we created a function to impute data to the lines where there was missing data. The function that will impute the data calculates the moving average, accepting that the period is changed, and imputes these values to the missing data.\n",
    "\n",
    "With this there will be no \"holes\" in our time series."
   ]
  },
  {
   "cell_type": "code",
   "execution_count": 5,
   "metadata": {},
   "outputs": [],
   "source": [
    "def fill_na(frame, period):\n",
    "    \"\"\"\n",
    "    Fill NA values with rolling mean\n",
    "    \n",
    "    IN: \n",
    "    frame: dataframe with NA values\n",
    "    period: rolling period to get mean\n",
    "    OUT:\n",
    "    frame: dataframe without NA values\n",
    "    \"\"\"\n",
    "    df_mean = frame.rolling(period, min_periods=int(period*0.5)).mean()\n",
    "    for ix in frame[frame.Open.isna()].index:\n",
    "        frame.loc[ix, 'Open':'Volume'] = df_mean.loc[ix,:].to_list()\n",
    "    return frame"
   ]
  },
  {
   "cell_type": "code",
   "execution_count": 6,
   "metadata": {},
   "outputs": [
    {
     "name": "stdout",
     "output_type": "stream",
     "text": [
      "Rows with missing value:  4\n",
      "Rows with missing value after function:  0\n"
     ]
    }
   ],
   "source": [
    "print('Rows with missing value: ', frame[frame.Open.isna()].shape[0])\n",
    "frame = fill_na(frame, 21)\n",
    "print('Rows with missing value after function: ', frame[frame.Open.isna()].shape[0])"
   ]
  },
  {
   "cell_type": "markdown",
   "metadata": {},
   "source": [
    "<h3>Remove column</h3>\n",
    "The \"Adj Close\" column is identical to the \"Close\" column, so it will be excluded from our dataframe for not adding new information."
   ]
  },
  {
   "cell_type": "code",
   "execution_count": 7,
   "metadata": {},
   "outputs": [
    {
     "name": "stdout",
     "output_type": "stream",
     "text": [
      "Rows with diferent values for columns Adj Close and Close:  0\n"
     ]
    },
    {
     "data": {
      "text/html": [
       "<div>\n",
       "<style scoped>\n",
       "    .dataframe tbody tr th:only-of-type {\n",
       "        vertical-align: middle;\n",
       "    }\n",
       "\n",
       "    .dataframe tbody tr th {\n",
       "        vertical-align: top;\n",
       "    }\n",
       "\n",
       "    .dataframe thead th {\n",
       "        text-align: right;\n",
       "    }\n",
       "</style>\n",
       "<table border=\"1\" class=\"dataframe\">\n",
       "  <thead>\n",
       "    <tr style=\"text-align: right;\">\n",
       "      <th></th>\n",
       "      <th>Date</th>\n",
       "      <th>Open</th>\n",
       "      <th>High</th>\n",
       "      <th>Low</th>\n",
       "      <th>Close</th>\n",
       "      <th>Volume</th>\n",
       "    </tr>\n",
       "  </thead>\n",
       "  <tbody>\n",
       "    <tr>\n",
       "      <th>0</th>\n",
       "      <td>2014-09-17</td>\n",
       "      <td>465.864014</td>\n",
       "      <td>468.174011</td>\n",
       "      <td>452.421997</td>\n",
       "      <td>457.334015</td>\n",
       "      <td>21056800.0</td>\n",
       "    </tr>\n",
       "    <tr>\n",
       "      <th>1</th>\n",
       "      <td>2014-09-18</td>\n",
       "      <td>456.859985</td>\n",
       "      <td>456.859985</td>\n",
       "      <td>413.104004</td>\n",
       "      <td>424.440002</td>\n",
       "      <td>34483200.0</td>\n",
       "    </tr>\n",
       "    <tr>\n",
       "      <th>2</th>\n",
       "      <td>2014-09-19</td>\n",
       "      <td>424.102997</td>\n",
       "      <td>427.834991</td>\n",
       "      <td>384.532013</td>\n",
       "      <td>394.795990</td>\n",
       "      <td>37919700.0</td>\n",
       "    </tr>\n",
       "    <tr>\n",
       "      <th>3</th>\n",
       "      <td>2014-09-20</td>\n",
       "      <td>394.673004</td>\n",
       "      <td>423.295990</td>\n",
       "      <td>389.882996</td>\n",
       "      <td>408.903992</td>\n",
       "      <td>36863600.0</td>\n",
       "    </tr>\n",
       "    <tr>\n",
       "      <th>4</th>\n",
       "      <td>2014-09-21</td>\n",
       "      <td>408.084991</td>\n",
       "      <td>412.425995</td>\n",
       "      <td>393.181000</td>\n",
       "      <td>398.821014</td>\n",
       "      <td>26580100.0</td>\n",
       "    </tr>\n",
       "  </tbody>\n",
       "</table>\n",
       "</div>"
      ],
      "text/plain": [
       "        Date        Open        High         Low       Close      Volume\n",
       "0 2014-09-17  465.864014  468.174011  452.421997  457.334015  21056800.0\n",
       "1 2014-09-18  456.859985  456.859985  413.104004  424.440002  34483200.0\n",
       "2 2014-09-19  424.102997  427.834991  384.532013  394.795990  37919700.0\n",
       "3 2014-09-20  394.673004  423.295990  389.882996  408.903992  36863600.0\n",
       "4 2014-09-21  408.084991  412.425995  393.181000  398.821014  26580100.0"
      ]
     },
     "execution_count": 7,
     "metadata": {},
     "output_type": "execute_result"
    }
   ],
   "source": [
    "print('Rows with diferent values for columns Adj Close and Close: ', frame[(frame.Close) != (frame['Adj Close'])].shape[0])\n",
    "frame.drop(columns=['Adj Close'], inplace=True)\n",
    "frame.head()"
   ]
  },
  {
   "cell_type": "markdown",
   "metadata": {},
   "source": [
    "<h3>Put all columns names with lower case</h3>"
   ]
  },
  {
   "cell_type": "code",
   "execution_count": 8,
   "metadata": {},
   "outputs": [],
   "source": [
    "frame.columns = list(item.lower() for item in frame.columns)"
   ]
  },
  {
   "cell_type": "markdown",
   "metadata": {},
   "source": [
    "<h3>Export Dataframe</h3>\n",
    "\n",
    "To store the data for the next steps, let's load it into a Sqlite database. For this, we create a connection using Sqlalchemy, and we will use the Pandas \"to_sql\" function to load the table. If there is already a table with the same name in the database, it will be deleted and the data loaded."
   ]
  },
  {
   "cell_type": "code",
   "execution_count": 9,
   "metadata": {},
   "outputs": [],
   "source": [
    "# create database file and engine\n",
    "engine = create_engine('sqlite:///database/database.db', echo=False)"
   ]
  },
  {
   "cell_type": "code",
   "execution_count": 10,
   "metadata": {},
   "outputs": [],
   "source": [
    "# load data to sql\n",
    "frame.to_sql(\n",
    "    'historical',\n",
    "    con=engine, \n",
    "    if_exists='replace'\n",
    ")"
   ]
  }
 ],
 "metadata": {
  "kernelspec": {
   "display_name": "Python 3",
   "language": "python",
   "name": "python3"
  },
  "language_info": {
   "codemirror_mode": {
    "name": "ipython",
    "version": 3
   },
   "file_extension": ".py",
   "mimetype": "text/x-python",
   "name": "python",
   "nbconvert_exporter": "python",
   "pygments_lexer": "ipython3",
   "version": "3.7.4"
  }
 },
 "nbformat": 4,
 "nbformat_minor": 2
}
