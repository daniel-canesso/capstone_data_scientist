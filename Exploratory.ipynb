{
 "cells": [
  {
   "cell_type": "code",
   "execution_count": 174,
   "metadata": {},
   "outputs": [],
   "source": [
    "import pandas as pd\n",
    "from sqlalchemy import create_engine\n",
    "import matplotlib.pyplot as plt\n",
    "import seaborn as sns\n",
    "\n",
    "%matplotlib inline"
   ]
  },
  {
   "cell_type": "markdown",
   "metadata": {},
   "source": [
    "<h3><center>Exploratory analysis</center></h3>"
   ]
  },
  {
   "cell_type": "markdown",
   "metadata": {},
   "source": [
    "<h4>Load Data from Database</h4>\n",
    "\n",
    "In order for us to begin the data exploration and understanding step, we need to collect the data that has already been treated and that were entered into our database, in the previous step.\n",
    "\n",
    "For this, let's run the step below, creating a Pandas Dataframe, which will contain all the Bitcoin history we want."
   ]
  },
  {
   "cell_type": "code",
   "execution_count": 175,
   "metadata": {},
   "outputs": [],
   "source": [
    "# create database file and engine\n",
    "engine = create_engine('sqlite:///database/database.db', echo=False)\n",
    "\n",
    "# define query to run\n",
    "query = \"\"\"select\n",
    "                  date\n",
    "                , open\n",
    "                , high\n",
    "                , low\n",
    "                , close\n",
    "                , volume\n",
    "           from historical\"\"\"\n",
    "\n",
    "# read sql from database using query\n",
    "frame = pd.read_sql(\n",
    "    query, \n",
    "    con=engine,\n",
    "    parse_dates=['date']\n",
    ")"
   ]
  },
  {
   "cell_type": "markdown",
   "metadata": {},
   "source": [
    "<h4>Next day closing</h4>\n",
    "\n",
    "The intention of the study is to predict, based on current day data, the closing price of Bitcoin the following day. \n",
    "\n",
    "Based on this, we will create a new column of data, with the next days closing price, and this column will be the variable we want to predict at the end of the study.\n",
    "\n",
    "We also created a column that tells us the percentage of change, or variation, between the close of one day and the next, this column was named \"percentual_change\"."
   ]
  },
  {
   "cell_type": "code",
   "execution_count": 176,
   "metadata": {},
   "outputs": [
    {
     "data": {
      "text/html": [
       "<div>\n",
       "<style scoped>\n",
       "    .dataframe tbody tr th:only-of-type {\n",
       "        vertical-align: middle;\n",
       "    }\n",
       "\n",
       "    .dataframe tbody tr th {\n",
       "        vertical-align: top;\n",
       "    }\n",
       "\n",
       "    .dataframe thead th {\n",
       "        text-align: right;\n",
       "    }\n",
       "</style>\n",
       "<table border=\"1\" class=\"dataframe\">\n",
       "  <thead>\n",
       "    <tr style=\"text-align: right;\">\n",
       "      <th></th>\n",
       "      <th>date</th>\n",
       "      <th>open</th>\n",
       "      <th>high</th>\n",
       "      <th>low</th>\n",
       "      <th>close</th>\n",
       "      <th>volume</th>\n",
       "      <th>closing_next</th>\n",
       "      <th>percentual_change</th>\n",
       "    </tr>\n",
       "  </thead>\n",
       "  <tbody>\n",
       "    <tr>\n",
       "      <th>0</th>\n",
       "      <td>2014-09-17</td>\n",
       "      <td>465.864014</td>\n",
       "      <td>468.174011</td>\n",
       "      <td>452.421997</td>\n",
       "      <td>457.334015</td>\n",
       "      <td>21056800.0</td>\n",
       "      <td>424.440002</td>\n",
       "      <td>NaN</td>\n",
       "    </tr>\n",
       "    <tr>\n",
       "      <th>1</th>\n",
       "      <td>2014-09-18</td>\n",
       "      <td>456.859985</td>\n",
       "      <td>456.859985</td>\n",
       "      <td>413.104004</td>\n",
       "      <td>424.440002</td>\n",
       "      <td>34483200.0</td>\n",
       "      <td>394.795990</td>\n",
       "      <td>-0.071926</td>\n",
       "    </tr>\n",
       "    <tr>\n",
       "      <th>2</th>\n",
       "      <td>2014-09-19</td>\n",
       "      <td>424.102997</td>\n",
       "      <td>427.834991</td>\n",
       "      <td>384.532013</td>\n",
       "      <td>394.795990</td>\n",
       "      <td>37919700.0</td>\n",
       "      <td>408.903992</td>\n",
       "      <td>-0.069843</td>\n",
       "    </tr>\n",
       "    <tr>\n",
       "      <th>3</th>\n",
       "      <td>2014-09-20</td>\n",
       "      <td>394.673004</td>\n",
       "      <td>423.295990</td>\n",
       "      <td>389.882996</td>\n",
       "      <td>408.903992</td>\n",
       "      <td>36863600.0</td>\n",
       "      <td>398.821014</td>\n",
       "      <td>0.035735</td>\n",
       "    </tr>\n",
       "    <tr>\n",
       "      <th>4</th>\n",
       "      <td>2014-09-21</td>\n",
       "      <td>408.084991</td>\n",
       "      <td>412.425995</td>\n",
       "      <td>393.181000</td>\n",
       "      <td>398.821014</td>\n",
       "      <td>26580100.0</td>\n",
       "      <td>402.152008</td>\n",
       "      <td>-0.024659</td>\n",
       "    </tr>\n",
       "  </tbody>\n",
       "</table>\n",
       "</div>"
      ],
      "text/plain": [
       "        date        open        high         low       close      volume  \\\n",
       "0 2014-09-17  465.864014  468.174011  452.421997  457.334015  21056800.0   \n",
       "1 2014-09-18  456.859985  456.859985  413.104004  424.440002  34483200.0   \n",
       "2 2014-09-19  424.102997  427.834991  384.532013  394.795990  37919700.0   \n",
       "3 2014-09-20  394.673004  423.295990  389.882996  408.903992  36863600.0   \n",
       "4 2014-09-21  408.084991  412.425995  393.181000  398.821014  26580100.0   \n",
       "\n",
       "   closing_next  percentual_change  \n",
       "0    424.440002                NaN  \n",
       "1    394.795990          -0.071926  \n",
       "2    408.903992          -0.069843  \n",
       "3    398.821014           0.035735  \n",
       "4    402.152008          -0.024659  "
      ]
     },
     "execution_count": 176,
     "metadata": {},
     "output_type": "execute_result"
    }
   ],
   "source": [
    "frame['closing_next'] = frame['close'].shift(-1)\n",
    "frame['percentual_change'] = frame.close.pct_change()\n",
    "frame.head()"
   ]
  },
  {
   "cell_type": "markdown",
   "metadata": {},
   "source": [
    "<h4>Dates</h4>\n",
    "\n",
    "The data covers a period between 17/09/2014 and 09/07/2021, with a total of 2488 days."
   ]
  },
  {
   "cell_type": "code",
   "execution_count": 177,
   "metadata": {},
   "outputs": [
    {
     "name": "stdout",
     "output_type": "stream",
     "text": [
      "The lowest date in the data is 2014-09-17 and the highest date is 2021-07-09. A total of 2488 days.\n"
     ]
    }
   ],
   "source": [
    "first_date = frame.date.dt.date.min()\n",
    "last_date = frame.date.dt.date.max()\n",
    "total_days = frame.shape[0]\n",
    "print('The lowest date in the data is %s and the highest date is %s. A total of %s days.' % (first_date, last_date, total_days))"
   ]
  },
  {
   "cell_type": "markdown",
   "metadata": {},
   "source": [
    "<h4>Viewing the closing price history</h4>"
   ]
  },
  {
   "cell_type": "code",
   "execution_count": 178,
   "metadata": {},
   "outputs": [
    {
     "data": {
      "text/plain": [
       "<matplotlib.axes._subplots.AxesSubplot at 0x1f032cfb988>"
      ]
     },
     "execution_count": 178,
     "metadata": {},
     "output_type": "execute_result"
    },
    {
     "data": {
      "image/png": "[encoded data removed]",
      "text/plain": [
       "<Figure size 1080x504 with 1 Axes>"
      ]
     },
     "metadata": {
      "needs_background": "light"
     },
     "output_type": "display_data"
    }
   ],
   "source": [
    "frame[['close', 'date']].plot(figsize=(15,7), title='Close Price Historical', x='date')"
   ]
  },
  {
   "cell_type": "markdown",
   "metadata": {},
   "source": [
    "<h4>Highest closing value</h4>"
   ]
  },
  {
   "cell_type": "code",
   "execution_count": 179,
   "metadata": {},
   "outputs": [
    {
     "name": "stdout",
     "output_type": "stream",
     "text": [
      "The highest closing value of the historical series for Bitcoin was 63503.457031, on the day 2021-04-13 00:00:00\n"
     ]
    }
   ],
   "source": [
    "max_date = frame.loc[frame.close.sort_values(ascending=False).index[0],'date']\n",
    "max_value = frame.loc[frame.close.sort_values(ascending=False).index[0],'close']\n",
    "print('The highest closing value of the historical series for Bitcoin was %s, on the day %s' % (max_value, max_date))"
   ]
  },
  {
   "cell_type": "markdown",
   "metadata": {},
   "source": [
    "<h4>Highest closing and percentage change year by year</h4>\n",
    "\n",
    "In five of the seven possible years to be analyzed, Bitcoin has grown in value. The year in which its value varied the most was in 2017, when it grew 1800% over the previous year.\n",
    "\n",
    "In the years 2018 and 2019, there was a decrease compared to the previous year, with 10% in 2018 and 25% in 2019.\n",
    "\n",
    "In the last two years, growth has been more modest, practically doubling its value year on year."
   ]
  },
  {
   "cell_type": "code",
   "execution_count": 180,
   "metadata": {
    "scrolled": false
   },
   "outputs": [
    {
     "data": {
      "text/html": [
       "<div>\n",
       "<style scoped>\n",
       "    .dataframe tbody tr th:only-of-type {\n",
       "        vertical-align: middle;\n",
       "    }\n",
       "\n",
       "    .dataframe tbody tr th {\n",
       "        vertical-align: top;\n",
       "    }\n",
       "\n",
       "    .dataframe thead th {\n",
       "        text-align: right;\n",
       "    }\n",
       "</style>\n",
       "<table border=\"1\" class=\"dataframe\">\n",
       "  <thead>\n",
       "    <tr style=\"text-align: right;\">\n",
       "      <th></th>\n",
       "      <th>date</th>\n",
       "      <th>close</th>\n",
       "      <th>percentage_change</th>\n",
       "    </tr>\n",
       "  </thead>\n",
       "  <tbody>\n",
       "    <tr>\n",
       "      <th>0</th>\n",
       "      <td>2014</td>\n",
       "      <td>457.334015</td>\n",
       "      <td>NaN</td>\n",
       "    </tr>\n",
       "    <tr>\n",
       "      <th>1</th>\n",
       "      <td>2015</td>\n",
       "      <td>465.321014</td>\n",
       "      <td>0.017464</td>\n",
       "    </tr>\n",
       "    <tr>\n",
       "      <th>2</th>\n",
       "      <td>2016</td>\n",
       "      <td>975.921021</td>\n",
       "      <td>1.097307</td>\n",
       "    </tr>\n",
       "    <tr>\n",
       "      <th>3</th>\n",
       "      <td>2017</td>\n",
       "      <td>19497.400391</td>\n",
       "      <td>18.978461</td>\n",
       "    </tr>\n",
       "    <tr>\n",
       "      <th>4</th>\n",
       "      <td>2018</td>\n",
       "      <td>17527.000000</td>\n",
       "      <td>-0.101060</td>\n",
       "    </tr>\n",
       "    <tr>\n",
       "      <th>5</th>\n",
       "      <td>2019</td>\n",
       "      <td>13016.231445</td>\n",
       "      <td>-0.257361</td>\n",
       "    </tr>\n",
       "    <tr>\n",
       "      <th>6</th>\n",
       "      <td>2020</td>\n",
       "      <td>29001.720703</td>\n",
       "      <td>1.228120</td>\n",
       "    </tr>\n",
       "    <tr>\n",
       "      <th>7</th>\n",
       "      <td>2021</td>\n",
       "      <td>63503.457031</td>\n",
       "      <td>1.189644</td>\n",
       "    </tr>\n",
       "  </tbody>\n",
       "</table>\n",
       "</div>"
      ],
      "text/plain": [
       "   date         close  percentage_change\n",
       "0  2014    457.334015                NaN\n",
       "1  2015    465.321014           0.017464\n",
       "2  2016    975.921021           1.097307\n",
       "3  2017  19497.400391          18.978461\n",
       "4  2018  17527.000000          -0.101060\n",
       "5  2019  13016.231445          -0.257361\n",
       "6  2020  29001.720703           1.228120\n",
       "7  2021  63503.457031           1.189644"
      ]
     },
     "execution_count": 180,
     "metadata": {},
     "output_type": "execute_result"
    },
    {
     "data": {
      "image/png": "[encoded data removed]",
      "text/plain": [
       "<Figure size 720x576 with 2 Axes>"
      ]
     },
     "metadata": {
      "needs_background": "light"
     },
     "output_type": "display_data"
    }
   ],
   "source": [
    "highest_year = pd.merge(\n",
    "    frame.date.dt.year,\n",
    "    frame.close,\n",
    "    how='inner',\n",
    "    left_index=True,\n",
    "    right_index=True\n",
    ").groupby('date').agg('max').reset_index()\n",
    "\n",
    "highest_year['percentage_change'] = (highest_year.close/highest_year.close.shift(1))-1\n",
    "\n",
    "highest_year.plot(kind='bar', legend=False, figsize=(10, 8),x='date', subplots=True)\n",
    "\n",
    "highest_year"
   ]
  },
  {
   "cell_type": "markdown",
   "metadata": {},
   "source": [
    "<h4>Accumulated Volume</h4>\n",
    "\n",
    "The value added per year, of the volume traded in Bitcoin, has grown at an exponential pace, year after year. In 2020, the volume reached the mark of 11.670 billion dollars. The partial mark of 2021 (as of 07/09/21) is already 11.374 billion."
   ]
  },
  {
   "cell_type": "code",
   "execution_count": 181,
   "metadata": {},
   "outputs": [
    {
     "data": {
      "text/html": [
       "<div>\n",
       "<style scoped>\n",
       "    .dataframe tbody tr th:only-of-type {\n",
       "        vertical-align: middle;\n",
       "    }\n",
       "\n",
       "    .dataframe tbody tr th {\n",
       "        vertical-align: top;\n",
       "    }\n",
       "\n",
       "    .dataframe thead th {\n",
       "        text-align: right;\n",
       "    }\n",
       "</style>\n",
       "<table border=\"1\" class=\"dataframe\">\n",
       "  <thead>\n",
       "    <tr style=\"text-align: right;\">\n",
       "      <th></th>\n",
       "      <th>date</th>\n",
       "      <th>volume</th>\n",
       "    </tr>\n",
       "  </thead>\n",
       "  <tbody>\n",
       "    <tr>\n",
       "      <th>0</th>\n",
       "      <td>2014</td>\n",
       "      <td>2.53</td>\n",
       "    </tr>\n",
       "    <tr>\n",
       "      <th>1</th>\n",
       "      <td>2015</td>\n",
       "      <td>12.38</td>\n",
       "    </tr>\n",
       "    <tr>\n",
       "      <th>2</th>\n",
       "      <td>2016</td>\n",
       "      <td>31.45</td>\n",
       "    </tr>\n",
       "    <tr>\n",
       "      <th>3</th>\n",
       "      <td>2017</td>\n",
       "      <td>869.75</td>\n",
       "    </tr>\n",
       "    <tr>\n",
       "      <th>4</th>\n",
       "      <td>2018</td>\n",
       "      <td>2213.20</td>\n",
       "    </tr>\n",
       "    <tr>\n",
       "      <th>5</th>\n",
       "      <td>2019</td>\n",
       "      <td>6106.63</td>\n",
       "    </tr>\n",
       "    <tr>\n",
       "      <th>6</th>\n",
       "      <td>2020</td>\n",
       "      <td>11670.09</td>\n",
       "    </tr>\n",
       "    <tr>\n",
       "      <th>7</th>\n",
       "      <td>2021</td>\n",
       "      <td>11374.31</td>\n",
       "    </tr>\n",
       "  </tbody>\n",
       "</table>\n",
       "</div>"
      ],
      "text/plain": [
       "   date    volume\n",
       "0  2014      2.53\n",
       "1  2015     12.38\n",
       "2  2016     31.45\n",
       "3  2017    869.75\n",
       "4  2018   2213.20\n",
       "5  2019   6106.63\n",
       "6  2020  11670.09\n",
       "7  2021  11374.31"
      ]
     },
     "execution_count": 181,
     "metadata": {},
     "output_type": "execute_result"
    },
    {
     "data": {
      "image/png": "[encoded data removed]",
      "text/plain": [
       "<Figure size 720x360 with 1 Axes>"
      ]
     },
     "metadata": {
      "needs_background": "light"
     },
     "output_type": "display_data"
    }
   ],
   "source": [
    "accumulated_volume = pd.merge(\n",
    "    frame.date.dt.year,\n",
    "    frame.volume,\n",
    "    how='inner',\n",
    "    left_index=True,\n",
    "    right_index=True\n",
    ").groupby('date').agg('sum').reset_index()\n",
    "accumulated_volume['volume'] = accumulated_volume['volume'].apply(lambda x: float(round((x/1000000000), 2)))\n",
    "accumulated_volume.plot(kind='bar', x='date', y='volume', figsize=(10,5), legend=False, title='Accumulated Volume Year')\n",
    "accumulated_volume"
   ]
  },
  {
   "cell_type": "markdown",
   "metadata": {},
   "source": [
    "<h4>Percentage Change Distribution</h4>\n",
    "\n",
    "Plotting the histogram of the distribution of percentage change values between the closing prices, we can see that the mean is 0.25% with a standard deviation of 3.93%.\n",
    "\n",
    "As the average is slightly positive, we understand that over time, despite constant drops in prices, Bitcoin appreciates.\n",
    "\n",
    "The median of the distribution is 0.19%, very close to the mean. The biggest drop was 37.16% and the biggest increase was 25.24%."
   ]
  },
  {
   "cell_type": "code",
   "execution_count": 182,
   "metadata": {},
   "outputs": [
    {
     "data": {
      "text/plain": [
       "count    2487.000000\n",
       "mean        0.002505\n",
       "std         0.039336\n",
       "min        -0.371695\n",
       "25%        -0.012740\n",
       "50%         0.001988\n",
       "75%         0.018052\n",
       "max         0.252472\n",
       "Name: percentual_change, dtype: float64"
      ]
     },
     "execution_count": 182,
     "metadata": {},
     "output_type": "execute_result"
    },
    {
     "data": {
      "image/png": "[encoded data removed]",
      "text/plain": [
       "<Figure size 720x360 with 1 Axes>"
      ]
     },
     "metadata": {
      "needs_background": "light"
     },
     "output_type": "display_data"
    }
   ],
   "source": [
    "frame.percentual_change.hist(bins=50, grid=False, figsize=(10,5))\n",
    "frame.percentual_change.describe()"
   ]
  },
  {
   "cell_type": "markdown",
   "metadata": {},
   "source": [
    "<h4>Correlation matrix</h4>\n",
    "\n",
    "All variables have a strong positive correlation (> 0.7) with our target variable (closing_next). The traded volume has the lowest correlation, being 0.79. The highest correlation is for the variable \"close\" being 0.998."
   ]
  },
  {
   "cell_type": "code",
   "execution_count": 183,
   "metadata": {},
   "outputs": [
    {
     "data": {
      "image/png": "[encoded data removed]",
      "text/plain": [
       "<Figure size 432x288 with 2 Axes>"
      ]
     },
     "metadata": {
      "needs_background": "light"
     },
     "output_type": "display_data"
    },
    {
     "data": {
      "text/html": [
       "<div>\n",
       "<style scoped>\n",
       "    .dataframe tbody tr th:only-of-type {\n",
       "        vertical-align: middle;\n",
       "    }\n",
       "\n",
       "    .dataframe tbody tr th {\n",
       "        vertical-align: top;\n",
       "    }\n",
       "\n",
       "    .dataframe thead th {\n",
       "        text-align: right;\n",
       "    }\n",
       "</style>\n",
       "<table border=\"1\" class=\"dataframe\">\n",
       "  <thead>\n",
       "    <tr style=\"text-align: right;\">\n",
       "      <th></th>\n",
       "      <th>open</th>\n",
       "      <th>close</th>\n",
       "      <th>low</th>\n",
       "      <th>high</th>\n",
       "      <th>volume</th>\n",
       "      <th>closing_next</th>\n",
       "    </tr>\n",
       "  </thead>\n",
       "  <tbody>\n",
       "    <tr>\n",
       "      <th>open</th>\n",
       "      <td>1.000000</td>\n",
       "      <td>0.998572</td>\n",
       "      <td>0.998837</td>\n",
       "      <td>0.999415</td>\n",
       "      <td>0.800019</td>\n",
       "      <td>0.997327</td>\n",
       "    </tr>\n",
       "    <tr>\n",
       "      <th>close</th>\n",
       "      <td>0.998572</td>\n",
       "      <td>1.000000</td>\n",
       "      <td>0.999252</td>\n",
       "      <td>0.999380</td>\n",
       "      <td>0.798781</td>\n",
       "      <td>0.998559</td>\n",
       "    </tr>\n",
       "    <tr>\n",
       "      <th>low</th>\n",
       "      <td>0.998837</td>\n",
       "      <td>0.999252</td>\n",
       "      <td>1.000000</td>\n",
       "      <td>0.998773</td>\n",
       "      <td>0.793953</td>\n",
       "      <td>0.997772</td>\n",
       "    </tr>\n",
       "    <tr>\n",
       "      <th>high</th>\n",
       "      <td>0.999415</td>\n",
       "      <td>0.999380</td>\n",
       "      <td>0.998773</td>\n",
       "      <td>1.000000</td>\n",
       "      <td>0.802335</td>\n",
       "      <td>0.997998</td>\n",
       "    </tr>\n",
       "    <tr>\n",
       "      <th>volume</th>\n",
       "      <td>0.800019</td>\n",
       "      <td>0.798781</td>\n",
       "      <td>0.793953</td>\n",
       "      <td>0.802335</td>\n",
       "      <td>1.000000</td>\n",
       "      <td>0.799469</td>\n",
       "    </tr>\n",
       "    <tr>\n",
       "      <th>closing_next</th>\n",
       "      <td>0.997327</td>\n",
       "      <td>0.998559</td>\n",
       "      <td>0.997772</td>\n",
       "      <td>0.997998</td>\n",
       "      <td>0.799469</td>\n",
       "      <td>1.000000</td>\n",
       "    </tr>\n",
       "  </tbody>\n",
       "</table>\n",
       "</div>"
      ],
      "text/plain": [
       "                  open     close       low      high    volume  closing_next\n",
       "open          1.000000  0.998572  0.998837  0.999415  0.800019      0.997327\n",
       "close         0.998572  1.000000  0.999252  0.999380  0.798781      0.998559\n",
       "low           0.998837  0.999252  1.000000  0.998773  0.793953      0.997772\n",
       "high          0.999415  0.999380  0.998773  1.000000  0.802335      0.997998\n",
       "volume        0.800019  0.798781  0.793953  0.802335  1.000000      0.799469\n",
       "closing_next  0.997327  0.998559  0.997772  0.997998  0.799469      1.000000"
      ]
     },
     "execution_count": 183,
     "metadata": {},
     "output_type": "execute_result"
    }
   ],
   "source": [
    "correlation_data = frame[['open', 'close', 'low', 'high', 'volume', 'closing_next']].corr()\n",
    "ax = sns.heatmap(correlation_data, linewidth=0.5)\n",
    "plt.show()\n",
    "correlation_data"
   ]
  },
  {
   "cell_type": "markdown",
   "metadata": {},
   "source": [
    "As our goal is to predict the closing value of Bitcoin the day after the valued one, and based on what we explored above, the closing value, open, maximum and minimum variables help to explain the close of the next day.\n",
    "\n",
    "Based on this, we will use this same Dataframe to try to create a model that can perform the desired forecast, within the metrics we have established."
   ]
  }
 ],
 "metadata": {
  "kernelspec": {
   "display_name": "Python 3",
   "language": "python",
   "name": "python3"
  },
  "language_info": {
   "codemirror_mode": {
    "name": "ipython",
    "version": 3
   },
   "file_extension": ".py",
   "mimetype": "text/x-python",
   "name": "python",
   "nbconvert_exporter": "python",
   "pygments_lexer": "ipython3",
   "version": "3.7.4"
  }
 },
 "nbformat": 4,
 "nbformat_minor": 2
}
